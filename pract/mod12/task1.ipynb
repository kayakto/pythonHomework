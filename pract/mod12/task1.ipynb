{
 "cells": [
  {
   "cell_type": "code",
   "source": [
    "import sqlite3\n",
    "\n",
    "connection = sqlite3.connect('task1.sqlite')\n",
    "cursor = connection.cursor()\n",
    "\n",
    "cursor.execute('''CREATE TABLE actors (\n",
    "                id INTEGER PRIMARY KEY,\n",
    "                name TEXT )\n",
    "''')\n",
    "\n",
    "cursor.execute('''CREATE TABLE movies (\n",
    "                id INTEGER PRIMARY KEY,\n",
    "                title TEXT )\n",
    "''')\n",
    "\n",
    "cursor.execute('''CREATE TABLE actor_movie (\n",
    "               actor_id INTEGER,\n",
    "               movie_id INTEGER,\n",
    "               FOREIGN KEY (actor_id) REFERENCES actors(id),\n",
    "               FOREIGN KEY (movie_id) REFERENCES movies(id) )\n",
    "''')\n",
    "\n",
    "connection.commit()\n",
    "connection.close()"
   ],
   "metadata": {
    "id": "CABK-Um8PYNe",
    "ExecuteTime": {
     "end_time": "2023-12-10T13:34:09.271446300Z",
     "start_time": "2023-12-10T13:34:09.221434Z"
    }
   },
   "execution_count": 1,
   "outputs": []
  },
  {
   "cell_type": "code",
   "source": [
    "connectionNetflix = sqlite3.connect('netflix.sqlite')\n",
    "cursorNetflix = connectionNetflix.cursor()\n",
    "cursorNetflix.execute('select title, \"cast\" from netflix_titles')\n",
    "data = cursorNetflix.fetchall()\n",
    "connectionNetflix.close()\n",
    "\n",
    "import re\n",
    "updateData = []\n",
    "uniqueActors = set()\n",
    "for i in data:\n",
    "    film, actors = i\n",
    "    cast = re.split(r' ,|, |,', actors)\n",
    "    uniqueActors = uniqueActors.union(set(cast))\n",
    "    updateData.append((film, cast))"
   ],
   "metadata": {
    "id": "FRKLwTJPPe-k",
    "ExecuteTime": {
     "end_time": "2023-12-10T13:34:15.719548700Z",
     "start_time": "2023-12-10T13:34:13.467952200Z"
    }
   },
   "execution_count": 2,
   "outputs": []
  },
  {
   "cell_type": "code",
   "source": [
    "connectionActors = sqlite3.connect('task1.sqlite')\n",
    "cursorActors = connectionActors.cursor()\n",
    "for actor in uniqueActors:\n",
    "    cursorActors.execute(\"INSERT INTO actors VALUES (NULL, ?)\", (actor,))\n",
    "connectionActors.commit()\n",
    "connectionActors.close()"
   ],
   "metadata": {
    "id": "8z_IuTcIPk9V",
    "ExecuteTime": {
     "end_time": "2023-12-10T13:34:17.488432800Z",
     "start_time": "2023-12-10T13:34:17.428420700Z"
    }
   },
   "execution_count": 3,
   "outputs": []
  },
  {
   "cell_type": "code",
   "source": [
    "connectionFilms = sqlite3.connect('task1.sqlite')\n",
    "cursorMovies = connectionFilms.cursor()\n",
    "for i in updateData:\n",
    "    film, actors = i\n",
    "    cursorMovies.execute(\"INSERT INTO movies VALUES (NULL, ?)\", (film,))\n",
    "connectionFilms.commit()\n",
    "connectionFilms.close()"
   ],
   "metadata": {
    "id": "QbnoLcF8PniO",
    "ExecuteTime": {
     "end_time": "2023-12-10T13:34:20.377374100Z",
     "start_time": "2023-12-10T13:34:20.334364700Z"
    }
   },
   "execution_count": 4,
   "outputs": []
  },
  {
   "cell_type": "code",
   "source": [
    "connectionActorFilm = sqlite3.connect('task1.sqlite')\n",
    "cursorActors = connectionActorFilm.cursor()\n",
    "cursorFilms = connectionActorFilm.cursor()\n",
    "cursorActorFilm = connectionActorFilm.cursor()\n",
    "for i in updateData:\n",
    "    film, actors = i\n",
    "    cursorActorFilm.execute('SELECT id FROM movies WHERE title = ?', (film,))\n",
    "    uniqueFilm = cursorActorFilm.fetchone()\n",
    "    for actor in actors:\n",
    "        cursorActors.execute('SELECT id FROM actors WHERE name = ?', (actor,))\n",
    "        uniqueActor = cursorActors.fetchone()\n",
    "        cursorActorFilm.execute(\"INSERT INTO actor_movie (actor_id, movie_id) VALUES (?, ?)\", (uniqueActor[0], uniqueFilm[0]))\n",
    "connectionActorFilm.commit()\n",
    "connectionActorFilm.close()"
   ],
   "metadata": {
    "id": "o2UgpCtFPqsl",
    "ExecuteTime": {
     "end_time": "2023-12-10T13:35:26.813111300Z",
     "start_time": "2023-12-10T13:34:23.312724900Z"
    }
   },
   "execution_count": 5,
   "outputs": []
  },
  {
   "cell_type": "code",
   "source": [
    "connectionFindActors = sqlite3.connect('task1.sqlite')\n",
    "cursorFindActors = connectionFindActors.cursor()\n",
    "cursorFindActors.execute('''\n",
    "    SELECT a1.name AS actor1_name, a2.name AS actor2_name, COUNT(*) AS movies_together\n",
    "    FROM actor_movie am1\n",
    "    JOIN actor_movie am2 ON am1.movie_id = am2.movie_id AND am1.actor_id < am2.actor_id\n",
    "    JOIN actors a1 ON am1.actor_id = a1.id\n",
    "    JOIN actors a2 ON am2.actor_id = a2.id\n",
    "    GROUP BY actor1_name, actor2_name\n",
    "    ORDER BY movies_together DESC\n",
    "    LIMIT 1\n",
    "''')\n",
    "actors = cursorFindActors.fetchone()\n",
    "print(actors[0])\n",
    "print(actors[1])\n",
    "connectionFindActors.close()"
   ],
   "metadata": {
    "colab": {
     "base_uri": "https://localhost:8080/"
    },
    "id": "D167QwHrSeLN",
    "executionInfo": {
     "status": "ok",
     "timestamp": 1702208648531,
     "user_tz": -300,
     "elapsed": 1252,
     "user": {
      "displayName": "Ирина Воронина",
      "userId": "07418445772746766319"
     }
    },
    "outputId": "80c0b160-8207-4b87-bec0-fc95787f0c94",
    "ExecuteTime": {
     "end_time": "2023-12-10T13:35:30.213330700Z",
     "start_time": "2023-12-10T13:35:29.965758600Z"
    }
   },
   "execution_count": 6,
   "outputs": [
    {
     "name": "stdout",
     "output_type": "stream",
     "text": [
      "John Paul Tremblay\n",
      "Robb Wells\n"
     ]
    }
   ]
  }
 ],
 "metadata": {
  "kernelspec": {
   "display_name": "Python 3",
   "language": "python",
   "name": "python3"
  },
  "language_info": {
   "codemirror_mode": {
    "name": "ipython",
    "version": 3
   },
   "file_extension": ".py",
   "mimetype": "text/x-python",
   "name": "python",
   "nbconvert_exporter": "python",
   "pygments_lexer": "ipython3",
   "version": "3.6.9"
  },
  "colab": {
   "provenance": []
  }
 },
 "nbformat": 4,
 "nbformat_minor": 0
}
